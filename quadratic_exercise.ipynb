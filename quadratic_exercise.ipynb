{
 "cells": [
  {
   "cell_type": "markdown",
   "metadata": {},
   "source": [
    "## Solve a quadratic equation, $x^2 + b x + c = 0$."
   ]
  },
  {
   "cell_type": "code",
   "execution_count": 79,
   "metadata": {},
   "outputs": [],
   "source": [
    "from numpy import *\n",
    "# решение с помощью companion matrix\n",
    "def solve_quad(b, c):\n",
    "    a = [[0, -c],[1, -b]]\n",
    "    return (linalg.eigvals(a)[0], linalg.eigvals(a)[1])"
   ]
  },
  {
   "cell_type": "markdown",
   "metadata": {},
   "source": [
    "Test the function"
   ]
  },
  {
   "cell_type": "code",
   "execution_count": 76,
   "metadata": {},
   "outputs": [],
   "source": [
    "from numpy import allclose"
   ]
  },
  {
   "cell_type": "code",
   "execution_count": 77,
   "metadata": {},
   "outputs": [],
   "source": [
    "variants = [{'b': 4.0, 'c': 3.0},\n",
    "            {'b': 2.0, 'c': 1.0},\n",
    "            {'b': 0.5, 'c': 4.0},\n",
    "            {'b': 1e10, 'c': 3.0},\n",
    "            {'b': -1e10, 'c': 4.0},]"
   ]
  },
  {
   "cell_type": "code",
   "execution_count": 83,
   "metadata": {},
   "outputs": [
    {
     "name": "stdout",
     "output_type": "stream",
     "text": [
      "x1 = -1.0 x2 = -3.0\n",
      "x1 = -0.9999999999999999 x2 = -0.9999999999999999\n",
      "x1 = (-0.25+1.984313483298443j) x2 = (-0.25-1.984313483298443j)\n",
      "предложенное решение тест не проходит. условные корни: х1 =  0.0 x2 = -10000000000.0\n",
      "предложенное решение тест не проходит. условные корни: х1 =  0.0 x2 = 10000000000.0\n"
     ]
    }
   ],
   "source": [
    "for var in variants:\n",
    "    x1, x2 = solve_quad(var[\"b\"], var[\"c\"])\n",
    "    if allclose(x1*x2, var['c']):\n",
    "        print('x1 =',x1,\"x2 =\",x2)\n",
    "    else:\n",
    "        print(\"предложенное решение тест не проходит. условные корни: х1 = \",x1,'x2 =',x2)"
   ]
  },
  {
   "cell_type": "code",
   "execution_count": 112,
   "metadata": {
    "scrolled": true
   },
   "outputs": [],
   "source": [
    "import cmath \n",
    "def solve_quad(b, c):\n",
    "    D = b**2 - 4*c\n",
    "    if b > c:\n",
    "        xx2 = (-b - cmath.sqrt(D))/2\n",
    "        xx1 = c /xx2\n",
    "    else:\n",
    "        xx1 = (-b + cmath.sqrt(D))/2\n",
    "        xx2 = c/xx1\n",
    "    if D < 0:\n",
    "        x1, x2 = xx1, xx2\n",
    "    else:\n",
    "        x1, x2 = real(xx1), real(xx2)         \n",
    "    return (x1, x2)     "
   ]
  },
  {
   "cell_type": "code",
   "execution_count": 113,
   "metadata": {},
   "outputs": [
    {
     "name": "stdout",
     "output_type": "stream",
     "text": [
      "x1 = -1.0 x2 = -3.0\n",
      "x1 = -1.0 x2 = -1.0\n",
      "x1 = (-0.25+1.984313483298443j) x2 = (-0.24999999999999994-1.9843134832984428j)\n",
      "x1 = -3e-10 x2 = -10000000000.0\n",
      "x1 = 10000000000.0 x2 = 4e-10\n"
     ]
    }
   ],
   "source": [
    "# тест\n",
    "for var in variants:\n",
    "    x1, x2 = solve_quad(var[\"b\"], var[\"c\"])\n",
    "    if allclose(x1*x2, var['c']):\n",
    "        print('x1 =',x1,\"x2 =\",x2)\n",
    "    else:\n",
    "        print(\"предложенное решение тест не проходит. условные корни: х1 = \",x1,'x2 =',x2)"
   ]
  },
  {
   "cell_type": "code",
   "execution_count": null,
   "metadata": {},
   "outputs": [],
   "source": []
  },
  {
   "cell_type": "code",
   "execution_count": null,
   "metadata": {},
   "outputs": [],
   "source": []
  }
 ],
 "metadata": {
  "kernelspec": {
   "display_name": "Python 3",
   "language": "python",
   "name": "python3"
  },
  "language_info": {
   "codemirror_mode": {
    "name": "ipython",
    "version": 3
   },
   "file_extension": ".py",
   "mimetype": "text/x-python",
   "name": "python",
   "nbconvert_exporter": "python",
   "pygments_lexer": "ipython3",
   "version": "3.7.0"
  }
 },
 "nbformat": 4,
 "nbformat_minor": 2
}
